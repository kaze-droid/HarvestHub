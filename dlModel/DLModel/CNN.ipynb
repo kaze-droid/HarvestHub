{
 "cells": [
  {
   "cell_type": "code",
   "execution_count": 2,
   "metadata": {},
   "outputs": [
    {
     "name": "stderr",
     "output_type": "stream",
     "text": [
      "2024-01-26 12:57:51.701349: I tensorflow/core/util/port.cc:110] oneDNN custom operations are on. You may see slightly different numerical results due to floating-point round-off errors from different computation orders. To turn them off, set the environment variable `TF_ENABLE_ONEDNN_OPTS=0`.\n",
      "2024-01-26 12:57:51.705279: I tensorflow/tsl/cuda/cudart_stub.cc:28] Could not find cuda drivers on your machine, GPU will not be used.\n",
      "2024-01-26 12:57:51.785328: I tensorflow/tsl/cuda/cudart_stub.cc:28] Could not find cuda drivers on your machine, GPU will not be used.\n",
      "2024-01-26 12:57:51.790879: I tensorflow/core/platform/cpu_feature_guard.cc:182] This TensorFlow binary is optimized to use available CPU instructions in performance-critical operations.\n",
      "To enable the following instructions: AVX2 AVX512F AVX512_VNNI FMA, in other operations, rebuild TensorFlow with the appropriate compiler flags.\n",
      "2024-01-26 12:57:53.120550: W tensorflow/compiler/tf2tensorrt/utils/py_utils.cc:38] TF-TRT Warning: Could not find TensorRT\n"
     ]
    }
   ],
   "source": [
    "from tensorflow.keras.models import load_model"
   ]
  },
  {
   "cell_type": "markdown",
   "metadata": {},
   "source": [
    "Load the models from the previously saved as .h5 files"
   ]
  },
  {
   "cell_type": "code",
   "execution_count": 3,
   "metadata": {},
   "outputs": [],
   "source": [
    "CNN_31 = load_model('Models/FinalModel_31.h5')\n",
    "CNN_128 = load_model('Models/FinalModel_128.h5')"
   ]
  },
  {
   "cell_type": "code",
   "execution_count": 4,
   "metadata": {},
   "outputs": [
    {
     "name": "stdout",
     "output_type": "stream",
     "text": [
      "Model: \"FinalModel\"\n",
      "_________________________________________________________________\n",
      " Layer (type)                Output Shape              Param #   \n",
      "=================================================================\n",
      " data_rescaling (Sequential  (None, None, None, 1)     0         \n",
      " )                                                               \n",
      "                                                                 \n",
      " conv2d_78 (Conv2D)          (None, 31, 31, 64)        1664      \n",
      "                                                                 \n",
      " max_pooling2d_70 (MaxPooli  (None, 15, 15, 64)        0         \n",
      " ng2D)                                                           \n",
      "                                                                 \n",
      " conv2d_79 (Conv2D)          (None, 15, 15, 128)       73856     \n",
      "                                                                 \n",
      " max_pooling2d_71 (MaxPooli  (None, 7, 7, 128)         0         \n",
      " ng2D)                                                           \n",
      "                                                                 \n",
      " conv2d_80 (Conv2D)          (None, 7, 7, 256)         295168    \n",
      "                                                                 \n",
      " max_pooling2d_72 (MaxPooli  (None, 3, 3, 256)         0         \n",
      " ng2D)                                                           \n",
      "                                                                 \n",
      " flatten_24 (Flatten)        (None, 2304)              0         \n",
      "                                                                 \n",
      " dropout_30 (Dropout)        (None, 2304)              0         \n",
      "                                                                 \n",
      " dense_54 (Dense)            (None, 128)               295040    \n",
      "                                                                 \n",
      " batch_normalization_16 (Ba  (None, 128)               512       \n",
      " tchNormalization)                                               \n",
      "                                                                 \n",
      " dense_55 (Dense)            (None, 15)                1935      \n",
      "                                                                 \n",
      "=================================================================\n",
      "Total params: 668175 (2.55 MB)\n",
      "Trainable params: 667919 (2.55 MB)\n",
      "Non-trainable params: 256 (1.00 KB)\n",
      "_________________________________________________________________\n"
     ]
    }
   ],
   "source": [
    "CNN_31.summary()"
   ]
  },
  {
   "cell_type": "code",
   "execution_count": 5,
   "metadata": {},
   "outputs": [
    {
     "name": "stdout",
     "output_type": "stream",
     "text": [
      "Model: \"BalancedModel\"\n",
      "_________________________________________________________________\n",
      " Layer (type)                Output Shape              Param #   \n",
      "=================================================================\n",
      " data_rescaling (Sequential  (None, None, None, 1)     0         \n",
      " )                                                               \n",
      "                                                                 \n",
      " conv2d_11 (Conv2D)          (None, 64, 64, 32)        1600      \n",
      "                                                                 \n",
      " max_pooling2d_10 (MaxPooli  (None, 32, 32, 32)        0         \n",
      " ng2D)                                                           \n",
      "                                                                 \n",
      " conv2d_12 (Conv2D)          (None, 16, 16, 64)        51264     \n",
      "                                                                 \n",
      " max_pooling2d_11 (MaxPooli  (None, 8, 8, 64)          0         \n",
      " ng2D)                                                           \n",
      "                                                                 \n",
      " conv2d_13 (Conv2D)          (None, 8, 8, 128)         73856     \n",
      "                                                                 \n",
      " max_pooling2d_12 (MaxPooli  (None, 4, 4, 128)         0         \n",
      " ng2D)                                                           \n",
      "                                                                 \n",
      " conv2d_14 (Conv2D)          (None, 4, 4, 256)         295168    \n",
      "                                                                 \n",
      " conv2d_15 (Conv2D)          (None, 4, 4, 512)         1180160   \n",
      "                                                                 \n",
      " max_pooling2d_13 (MaxPooli  (None, 2, 2, 512)         0         \n",
      " ng2D)                                                           \n",
      "                                                                 \n",
      " flatten_3 (Flatten)         (None, 2048)              0         \n",
      "                                                                 \n",
      " dropout_4 (Dropout)         (None, 2048)              0         \n",
      "                                                                 \n",
      " dense_7 (Dense)             (None, 256)               524544    \n",
      "                                                                 \n",
      " dropout_5 (Dropout)         (None, 256)               0         \n",
      "                                                                 \n",
      " dense_8 (Dense)             (None, 128)               32896     \n",
      "                                                                 \n",
      " batch_normalization_1 (Bat  (None, 128)               512       \n",
      " chNormalization)                                                \n",
      "                                                                 \n",
      " dense_9 (Dense)             (None, 15)                1935      \n",
      "                                                                 \n",
      "=================================================================\n",
      "Total params: 2161935 (8.25 MB)\n",
      "Trainable params: 2161679 (8.25 MB)\n",
      "Non-trainable params: 256 (1.00 KB)\n",
      "_________________________________________________________________\n"
     ]
    }
   ],
   "source": [
    "CNN_128.summary()"
   ]
  },
  {
   "cell_type": "code",
   "execution_count": 9,
   "metadata": {},
   "outputs": [
    {
     "name": "stdout",
     "output_type": "stream",
     "text": [
      "INFO:tensorflow:Assets written to: ./img_classifier/31/1/assets\n"
     ]
    },
    {
     "name": "stderr",
     "output_type": "stream",
     "text": [
      "INFO:tensorflow:Assets written to: ./img_classifier/31/1/assets\n"
     ]
    },
    {
     "name": "stdout",
     "output_type": "stream",
     "text": [
      "INFO:tensorflow:Assets written to: ./img_classifier/128/1/assets\n"
     ]
    },
    {
     "name": "stderr",
     "output_type": "stream",
     "text": [
      "INFO:tensorflow:Assets written to: ./img_classifier/128/1/assets\n"
     ]
    }
   ],
   "source": [
    "# Save the models but this time as tf for tensorflow serving\n",
    "version = 1\n",
    "file_path_31 = f\"./img_classifier/31/{version}\"\n",
    "file_path_128 = f\"./img_classifier/128/{version}\"\n",
    "\n",
    "CNN_31.save(filepath=file_path_31, save_format='tf')\n",
    "CNN_128.save(filepath=file_path_128, save_format='tf')"
   ]
  },
  {
   "cell_type": "markdown",
   "metadata": {},
   "source": [
    "### Deploying Model Locally"
   ]
  },
  {
   "cell_type": "markdown",
   "metadata": {},
   "source": [
    "**Step 1**: First, head over to the img_classifier directory and create the file 'models.config'\n",
    "\n",
    "``` bash\n",
    "~: cd DLModel/img_classifier\n",
    "~DLModel/img_classifier: mkdir local_config\n",
    "~DLModel/img_classifier: code models.config\n",
    "```"
   ]
  },
  {
   "cell_type": "markdown",
   "metadata": {},
   "source": [
    "**Step 2**: Inside `models.config` we will add the following:\n",
    "```json\n",
    "model_config_list: { \n",
    "  config: {\n",
    "    name: \"31x31\",\n",
    "    base_path: \"/models/img_classifier/31\",\n",
    "    model_platform: \"tensorflow\"\n",
    "  },\n",
    "  config: {\n",
    "    name: \"128x128\",\n",
    "    base_path: \"/models/img_classifier/128\",\n",
    "    model_platform: \"tensorflow\"\n",
    "  },\n",
    "}\n",
    "```\n"
   ]
  },
  {
   "cell_type": "markdown",
   "metadata": {},
   "source": [
    "**Step 3**: Finally, we can create the docker container using tensorflow serving\n",
    "```docker\n",
    "docker run --name vegetable_server -p 8501:8501 -v \"C:/Users/ryany/OneDrive/Documents/SP Y2S2/DevOps/CA2/ca2-daaa2b01-2214452-ryanyeo-dlmodelapp-main/DLModel:/models\" -t tensorflow/serving --model_config_file=/models/img_classifier/local_config/models.config &\n",
    "```"
   ]
  },
  {
   "cell_type": "markdown",
   "metadata": {},
   "source": [
    "**Step 4**: To test whether the server is running correctly, we would just have to check two urls:\n",
    "- http://localhost:8501/v1/models/31x31\n",
    "- http://localhost:8501/v1/models/128x128"
   ]
  },
  {
   "cell_type": "markdown",
   "metadata": {},
   "source": [
    "Since the status is:\n",
    "```json\n",
    "{\n",
    " \"model_version_status\": [\n",
    "  {\n",
    "   \"version\": \"1\",\n",
    "   \"state\": \"AVAILABLE\",\n",
    "   \"status\": {\n",
    "    \"error_code\": \"OK\",\n",
    "    \"error_message\": \"\"\n",
    "   }\n",
    "  }\n",
    " ]\n",
    "}\n",
    "```\n",
    "\n",
    "it means that there are no issues with the local deployment"
   ]
  },
  {
   "cell_type": "markdown",
   "metadata": {},
   "source": [
    "### Deploying Model Remotely"
   ]
  },
  {
   "cell_type": "markdown",
   "metadata": {},
   "source": [
    "**Step 1**: Now for deploying remotely, we would have to set our root folder when deploying in render to be '/DLModel'. Then, we would also need a seperate models.config"
   ]
  },
  {
   "cell_type": "markdown",
   "metadata": {},
   "source": [
    "``` bash\n",
    "~: cd DLModel/img_classifier\n",
    "~DLModel/img_classifier: mkdir remote_config\n",
    "~DLModel/img_classifier: code models.config\n",
    "```"
   ]
  },
  {
   "cell_type": "markdown",
   "metadata": {},
   "source": [
    "**Step 2**: The content inside the model.config file will be similar to the one inside the one used for deploying it locally. However, we would have to modify the base path to match the root folder specified on render\n",
    "\n",
    "Inside `models.config` we will add the following:\n",
    "```json\n",
    "model_config_list: { \n",
    "  config: {\n",
    "    name: \"31x31\",\n",
    "    base_path: \"/img_classifier/31\",\n",
    "    model_platform: \"tensorflow\"\n",
    "  },\n",
    "  config: {\n",
    "    name: \"128x128\",\n",
    "    base_path: \"/img_classifier/128\",\n",
    "    model_platform: \"tensorflow\"\n",
    "  },\n",
    "}\n",
    "```\n"
   ]
  },
  {
   "cell_type": "markdown",
   "metadata": {},
   "source": [
    "**Step 3**: Finally, we can create the docker container using tensorflow serving\n",
    "```Dockerfile\n",
    "FROM tensorflow/serving\n",
    "COPY / /\n",
    "ENV MODEL_CONF=/img_classifier/remote_config/models.config MODEL_BASE_PATH=/\n",
    "EXPOSE 8500\n",
    "EXPOSE 8501\n",
    "RUN echo '#!/bin/bash \\n\\n\\\n",
    "tensorflow_model_server \\\n",
    "--rest_api_port=$PORT \\\n",
    "--model_config_file=${MODEL_CONF} \\\n",
    "\"$@\"' > /usr/bin/tf_serving_entrypoint.sh \\\n",
    "&& chmod +x /usr/bin/tf_serving_entrypoint.sh\n",
    "```"
   ]
  },
  {
   "cell_type": "markdown",
   "metadata": {},
   "source": [
    "**Step 4**: To test whether the server is running correctly, we would just have to check two urls:\n",
    "- https://vegetablecnn.onrender.com/v1/models/31x31\n",
    "- https://vegetablecnn.onrender.com/v1/models/128x128"
   ]
  },
  {
   "cell_type": "markdown",
   "metadata": {},
   "source": [
    "Since the status is:\n",
    "```json\n",
    "{\n",
    " \"model_version_status\": [\n",
    "  {\n",
    "   \"version\": \"1\",\n",
    "   \"state\": \"AVAILABLE\",\n",
    "   \"status\": {\n",
    "    \"error_code\": \"OK\",\n",
    "    \"error_message\": \"\"\n",
    "   }\n",
    "  }\n",
    " ]\n",
    "}\n",
    "```\n",
    "\n",
    "it means that there are no issues with the remote deployment"
   ]
  }
 ],
 "metadata": {
  "kernelspec": {
   "display_name": "env",
   "language": "python",
   "name": "python3"
  },
  "language_info": {
   "codemirror_mode": {
    "name": "ipython",
    "version": 3
   },
   "file_extension": ".py",
   "mimetype": "text/x-python",
   "name": "python",
   "nbconvert_exporter": "python",
   "pygments_lexer": "ipython3",
   "version": "2.7.0"
  }
 },
 "nbformat": 4,
 "nbformat_minor": 2
}
